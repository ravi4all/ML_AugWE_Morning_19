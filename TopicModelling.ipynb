{
 "cells": [
  {
   "cell_type": "code",
   "execution_count": 1,
   "metadata": {},
   "outputs": [
    {
     "name": "stderr",
     "output_type": "stream",
     "text": [
      "C:\\Users\\asus\\Anaconda3\\lib\\importlib\\_bootstrap.py:219: RuntimeWarning: numpy.ufunc size changed, may indicate binary incompatibility. Expected 192 from C header, got 216 from PyObject\n",
      "  return f(*args, **kwds)\n"
     ]
    }
   ],
   "source": [
    "from sklearn.datasets import fetch_20newsgroups\n",
    "from sklearn.naive_bayes import MultinomialNB\n",
    "from sklearn.metrics import accuracy_score, confusion_matrix\n",
    "from nltk.tokenize import word_tokenize\n",
    "from nltk.corpus import stopwords\n",
    "from nltk.stem import WordNetLemmatizer\n",
    "from sklearn.feature_extraction.text import CountVectorizer, TfidfVectorizer"
   ]
  },
  {
   "cell_type": "code",
   "execution_count": 2,
   "metadata": {},
   "outputs": [],
   "source": [
    "cat = {\n",
    "    'alt.atheism' : 'Atheism',\n",
    "    'comp.graphics' : 'Graphics',\n",
    "    'rec.autos' : 'Autos',\n",
    "    'rec.sport.baseball' : 'Baseball',\n",
    "    'sci.electronics' : 'Electronics',\n",
    "    'sci.med' : 'Medical',\n",
    "    'sci.space' : 'Space'\n",
    "}\n",
    "\n",
    "train_data = fetch_20newsgroups(subset='train',categories=cat)"
   ]
  },
  {
   "cell_type": "code",
   "execution_count": 5,
   "metadata": {},
   "outputs": [],
   "source": [
    "x_train = train_data.data\n",
    "y_train = train_data.target"
   ]
  },
  {
   "cell_type": "code",
   "execution_count": 7,
   "metadata": {},
   "outputs": [
    {
     "data": {
      "text/plain": [
       "4"
      ]
     },
     "execution_count": 7,
     "metadata": {},
     "output_type": "execute_result"
    }
   ],
   "source": [
    "y_train[0]"
   ]
  },
  {
   "cell_type": "code",
   "execution_count": 10,
   "metadata": {},
   "outputs": [
    {
     "data": {
      "text/plain": [
       "['alt.atheism',\n",
       " 'comp.graphics',\n",
       " 'rec.autos',\n",
       " 'rec.sport.baseball',\n",
       " 'sci.electronics',\n",
       " 'sci.med',\n",
       " 'sci.space']"
      ]
     },
     "execution_count": 10,
     "metadata": {},
     "output_type": "execute_result"
    }
   ],
   "source": [
    "train_data.target_names"
   ]
  },
  {
   "cell_type": "code",
   "execution_count": 21,
   "metadata": {},
   "outputs": [
    {
     "data": {
      "text/plain": [
       "4033"
      ]
     },
     "execution_count": 21,
     "metadata": {},
     "output_type": "execute_result"
    }
   ],
   "source": [
    "# x_train[0]\n",
    "len(x_train)"
   ]
  },
  {
   "cell_type": "code",
   "execution_count": 26,
   "metadata": {},
   "outputs": [],
   "source": [
    "def textProcessing(data):\n",
    "#     1. Tokenization\n",
    "    tokens = []\n",
    "    for i in range(len(data)):\n",
    "        tokens.append(word_tokenize(data[i].lower()))\n",
    "    \n",
    "#     2. Remove Stopwords\n",
    "    words = []\n",
    "    eng_stopwords = stopwords.words('english')\n",
    "    eng_stopwords.extend([',','?','!','@','.','-','&','|','+',':','<','>','_','--'])\n",
    "    for tokenList in tokens:\n",
    "        list_1 = []\n",
    "        for i in range(len(tokenList)):\n",
    "            if tokenList[i] not in eng_stopwords:\n",
    "                list_1.append(tokenList[i])\n",
    "        words.append(list_1)\n",
    "    \n",
    "#     3. Lemmatization\n",
    "    wnet = WordNetLemmatizer()\n",
    "    for i in range(len(words)):\n",
    "        for j in range(len(words[i])):\n",
    "            words[i][j] = wnet.lemmatize(words[i][j], pos='v')\n",
    "            \n",
    "    for i in range(len(words)):\n",
    "        words[i] = ' '.join(words[i])\n",
    "    \n",
    "    return words"
   ]
  },
  {
   "cell_type": "code",
   "execution_count": 27,
   "metadata": {},
   "outputs": [],
   "source": [
    "x_wordsList = textProcessing(x_train)"
   ]
  },
  {
   "cell_type": "code",
   "execution_count": 28,
   "metadata": {},
   "outputs": [
    {
     "data": {
      "text/plain": [
       "\"From: dp@cec1.wustl.edu (David Prutchi)\\nSubject: Re: EEG Kit?\\nNntp-Posting-Host: cec1\\nOrganization: Washington University, St. Louis MO\\nLines: 30\\n\\nIn article <cantrell.735330560@sauron.msfc.nasa.gov> cantrell@sauron.msfc.nasa.gov (Eric Cantrell) writes:\\n>Awhile back someone posted some information on where you can get\\n>kits to build an EEG.  Does anyone remember where you could get\\n>this.  I'm very interested in getting some info on this.  Thanks \\n>in advance.\\n>\\n>eric\\n>\\n>cantrell@sauron.msfc.nasa      \\n>\\n\\nContact Circuit Cellar Inc., 4 Park St. - Suite 12, Vernon, CT 06066\\n(203)875-2751, FAX (203)872-2204 and inquire about HAL-4 EEG Biofeedback\\nBrainwave Analyzer.  \\n\\nIn addition, if you want to build your own system from board-level compo-\\nnents (biosignal amplifiers, analog isolators and isolated multiplexers)\\nyou can contact The Davron Group,P.O. Box 237, Deerfield, IL  60015\\nFAX (708)948-9290.\\n\\n- David\\n\\n\\n+------------------------------------------------------------+\\n|  David Prutchi                 HC1DT                       |\\n|  Washington University         <prutchi@mesun4.wustl.edu>  |\\n|  Campus Box 1185               <dp@cec1.wustl.edu>         |\\n|  One Brookings Drive                                       |\\n|  St. Louis, MO  63130-4899                                 |\\n+------------------------------------------------------------+\\n\""
      ]
     },
     "execution_count": 28,
     "metadata": {},
     "output_type": "execute_result"
    }
   ],
   "source": [
    "x_train[0]"
   ]
  },
  {
   "cell_type": "code",
   "execution_count": 29,
   "metadata": {},
   "outputs": [
    {
     "data": {
      "text/plain": [
       "\"dp cec1.wustl.edu ( david prutchi ) subject eeg kit nntp-posting-host cec1 organization washington university st. louis mo line 30 article cantrell.735330560 sauron.msfc.nasa.gov cantrell sauron.msfc.nasa.gov ( eric cantrell ) write awhile back someone post information get kit build eeg anyone remember could get 'm interest get info thank advance eric cantrell sauron.msfc.nasa contact circuit cellar inc. 4 park st. suite 12 vernon ct 06066 ( 203 ) 875-2751 fax ( 203 ) 872-2204 inquire hal-4 eeg biofeedback brainwave analyzer addition want build system board-level compo- nents ( biosignal amplifiers analog isolators isolate multiplexers ) contact davron group p.o box 237 deerfield il 60015 fax ( 708 ) 948-9290 david david prutchi hc1dt washington university prutchi mesun4.wustl.edu campus box 1185 dp cec1.wustl.edu one brook drive st. louis mo 63130-4899\""
      ]
     },
     "execution_count": 29,
     "metadata": {},
     "output_type": "execute_result"
    }
   ],
   "source": [
    "x_wordsList[0]"
   ]
  },
  {
   "cell_type": "code",
   "execution_count": 30,
   "metadata": {},
   "outputs": [],
   "source": [
    "cv = CountVectorizer()"
   ]
  },
  {
   "cell_type": "code",
   "execution_count": 31,
   "metadata": {},
   "outputs": [],
   "source": [
    "vect = cv.fit_transform(x_train)"
   ]
  },
  {
   "cell_type": "code",
   "execution_count": 32,
   "metadata": {},
   "outputs": [],
   "source": [
    "nb = MultinomialNB()"
   ]
  },
  {
   "cell_type": "code",
   "execution_count": 33,
   "metadata": {},
   "outputs": [
    {
     "data": {
      "text/plain": [
       "MultinomialNB(alpha=1.0, class_prior=None, fit_prior=True)"
      ]
     },
     "execution_count": 33,
     "metadata": {},
     "output_type": "execute_result"
    }
   ],
   "source": [
    "nb.fit(vect,y_train)"
   ]
  },
  {
   "cell_type": "code",
   "execution_count": 34,
   "metadata": {},
   "outputs": [],
   "source": [
    "test_data = fetch_20newsgroups(subset='test',categories=cat)"
   ]
  },
  {
   "cell_type": "code",
   "execution_count": 35,
   "metadata": {},
   "outputs": [],
   "source": [
    "x_test = test_data.data\n",
    "y_test = test_data.target"
   ]
  },
  {
   "cell_type": "code",
   "execution_count": 36,
   "metadata": {},
   "outputs": [],
   "source": [
    "X_test_wordsList = textProcessing(x_test)"
   ]
  },
  {
   "cell_type": "code",
   "execution_count": 40,
   "metadata": {},
   "outputs": [],
   "source": [
    "X_test_wordsList = cv.transform(X_test_wordsList)"
   ]
  },
  {
   "cell_type": "code",
   "execution_count": 41,
   "metadata": {},
   "outputs": [
    {
     "data": {
      "text/plain": [
       "0.9143070044709389"
      ]
     },
     "execution_count": 41,
     "metadata": {},
     "output_type": "execute_result"
    }
   ],
   "source": [
    "y_pred = nb.predict(X_test_wordsList)\n",
    "accuracy_score(y_test,y_pred)"
   ]
  },
  {
   "cell_type": "code",
   "execution_count": 43,
   "metadata": {},
   "outputs": [],
   "source": [
    "input_data = ['This car is just an upgraded version of alto 800. The space is not satisfactory. Build quality is also poor. The engine comprises of a thousand CC K10 engine but you will not find it that sporty. The music and infotainment system comprises a touchscreen accompanied by a digital speedometer but power windows are only for the front doors. Manual movement for the rear doors.']"
   ]
  },
  {
   "cell_type": "code",
   "execution_count": 44,
   "metadata": {},
   "outputs": [],
   "source": [
    "input_data = textProcessing(input_data)"
   ]
  },
  {
   "cell_type": "code",
   "execution_count": 45,
   "metadata": {},
   "outputs": [
    {
     "data": {
      "text/plain": [
       "['car upgrade version alto 800. space satisfactory build quality also poor engine comprise thousand cc k10 engine find sporty music infotainment system comprise touchscreen accompany digital speedometer power windows front doors manual movement rear doors']"
      ]
     },
     "execution_count": 45,
     "metadata": {},
     "output_type": "execute_result"
    }
   ],
   "source": [
    "input_data"
   ]
  },
  {
   "cell_type": "code",
   "execution_count": 46,
   "metadata": {},
   "outputs": [],
   "source": [
    "input_vector = cv.transform(input_data)"
   ]
  },
  {
   "cell_type": "code",
   "execution_count": 51,
   "metadata": {},
   "outputs": [],
   "source": [
    "prediction = nb.predict(input_vector)"
   ]
  },
  {
   "cell_type": "code",
   "execution_count": 57,
   "metadata": {},
   "outputs": [
    {
     "data": {
      "text/plain": [
       "2"
      ]
     },
     "execution_count": 57,
     "metadata": {},
     "output_type": "execute_result"
    }
   ],
   "source": [
    "prediction[0]"
   ]
  },
  {
   "cell_type": "code",
   "execution_count": 59,
   "metadata": {},
   "outputs": [
    {
     "data": {
      "text/plain": [
       "'rec.autos'"
      ]
     },
     "execution_count": 59,
     "metadata": {},
     "output_type": "execute_result"
    }
   ],
   "source": [
    "train_data.target_names[prediction[0]]"
   ]
  },
  {
   "cell_type": "code",
   "execution_count": 55,
   "metadata": {},
   "outputs": [
    {
     "data": {
      "text/plain": [
       "'Autos'"
      ]
     },
     "execution_count": 55,
     "metadata": {},
     "output_type": "execute_result"
    }
   ],
   "source": [
    "cat[train_data.target_names[prediction[0]]]"
   ]
  },
  {
   "cell_type": "code",
   "execution_count": 60,
   "metadata": {},
   "outputs": [
    {
     "data": {
      "text/plain": [
       "array([[295,   2,   0,   0,   0,   7,   2],\n",
       "       [  2, 361,   3,   4,  44,  15,  15],\n",
       "       [  1,   1, 375,   5,   5,   9,   3],\n",
       "       [  3,   1,   2, 382,   0,   5,   1],\n",
       "       [  3,  14,  13,   1, 334,  14,   4],\n",
       "       [  8,   1,   1,   1,   6, 342,   4],\n",
       "       [  7,   9,   2,   4,   4,   4, 365]], dtype=int64)"
      ]
     },
     "execution_count": 60,
     "metadata": {},
     "output_type": "execute_result"
    }
   ],
   "source": [
    "confusion_matrix(y_pred,y_test)"
   ]
  },
  {
   "cell_type": "code",
   "execution_count": null,
   "metadata": {},
   "outputs": [],
   "source": []
  }
 ],
 "metadata": {
  "kernelspec": {
   "display_name": "Python 3",
   "language": "python",
   "name": "python3"
  },
  "language_info": {
   "codemirror_mode": {
    "name": "ipython",
    "version": 3
   },
   "file_extension": ".py",
   "mimetype": "text/x-python",
   "name": "python",
   "nbconvert_exporter": "python",
   "pygments_lexer": "ipython3",
   "version": "3.7.3"
  }
 },
 "nbformat": 4,
 "nbformat_minor": 2
}
